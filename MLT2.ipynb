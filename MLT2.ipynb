{
  "nbformat": 4,
  "nbformat_minor": 0,
  "metadata": {
    "colab": {
      "provenance": [],
      "authorship_tag": "ABX9TyN3XWWpDuZ1oMiShb/i5eFE",
      "include_colab_link": true
    },
    "kernelspec": {
      "name": "python3",
      "display_name": "Python 3"
    },
    "language_info": {
      "name": "python"
    }
  },
  "cells": [
    {
      "cell_type": "markdown",
      "metadata": {
        "id": "view-in-github",
        "colab_type": "text"
      },
      "source": [
        "<a href=\"https://colab.research.google.com/github/shajeeraza12/Machine-Learning/blob/main/MLT2.ipynb\" target=\"_parent\"><img src=\"https://colab.research.google.com/assets/colab-badge.svg\" alt=\"Open In Colab\"/></a>"
      ]
    },
    {
      "cell_type": "markdown",
      "source": [
        "![image.png](data:image/png;base64,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)"
      ],
      "metadata": {
        "id": "SUemGn8sjtKa"
      }
    },
    {
      "cell_type": "markdown",
      "source": [
        "# Importing necessary libraries"
      ],
      "metadata": {
        "id": "xmCYYAg_Z8Os"
      }
    },
    {
      "cell_type": "code",
      "source": [
        "import re\n",
        "import requests\n",
        "from nltk.corpus import stopwords\n",
        "from nltk.tokenize import word_tokenize\n",
        "from nltk.stem import WordNetLemmatizer\n",
        "from sklearn.feature_extraction.text import TfidfVectorizer\n",
        "import nltk\n",
        "import spacy\n",
        "\n",
        "# Downloading necessary NLTK resources\n",
        "nltk.download('punkt')\n",
        "nltk.download('stopwords')\n",
        "nltk.download('wordnet')\n",
        "nltk.download('punkt_tab')\n",
        "nltk.download('averaged_perceptron_tagger_eng')"
      ],
      "metadata": {
        "colab": {
          "base_uri": "https://localhost:8080/"
        },
        "id": "JveYDko8Tq0j",
        "outputId": "4849f130-33ad-449a-a4b7-ef26a46bd10c"
      },
      "execution_count": 1,
      "outputs": [
        {
          "output_type": "stream",
          "name": "stderr",
          "text": [
            "[nltk_data] Downloading package punkt to /root/nltk_data...\n",
            "[nltk_data]   Unzipping tokenizers/punkt.zip.\n",
            "[nltk_data] Downloading package stopwords to /root/nltk_data...\n",
            "[nltk_data]   Unzipping corpora/stopwords.zip.\n",
            "[nltk_data] Downloading package wordnet to /root/nltk_data...\n",
            "[nltk_data] Downloading package punkt_tab to /root/nltk_data...\n",
            "[nltk_data]   Unzipping tokenizers/punkt_tab.zip.\n",
            "[nltk_data] Downloading package averaged_perceptron_tagger_eng to\n",
            "[nltk_data]     /root/nltk_data...\n",
            "[nltk_data]   Unzipping taggers/averaged_perceptron_tagger_eng.zip.\n"
          ]
        },
        {
          "output_type": "execute_result",
          "data": {
            "text/plain": [
              "True"
            ]
          },
          "metadata": {},
          "execution_count": 1
        }
      ]
    },
    {
      "cell_type": "markdown",
      "source": [
        "# Fetching the file"
      ],
      "metadata": {
        "id": "D8n4LKmNZ_sA"
      }
    },
    {
      "cell_type": "code",
      "source": [
        "# Downloading the text from Project Gutenberg\n",
        "url = \"http://www.gutenberg.org/files/11/11-0.txt\"\n",
        "response = requests.get(url)\n",
        "if response.status_code == 200:\n",
        "    text = response.text\n",
        "    print(\"Text downloaded successfully.\")\n",
        "else:\n",
        "    print(\"Failed to download the text.\")\n"
      ],
      "metadata": {
        "colab": {
          "base_uri": "https://localhost:8080/"
        },
        "id": "asUTm0ywTvtG",
        "outputId": "5aaaf113-1415-4ee1-84e5-a7867326f28c"
      },
      "execution_count": 2,
      "outputs": [
        {
          "output_type": "stream",
          "name": "stdout",
          "text": [
            "Text downloaded successfully.\n"
          ]
        }
      ]
    },
    {
      "cell_type": "markdown",
      "source": [
        "# Removing the index"
      ],
      "metadata": {
        "id": "un4hzAeWaB_j"
      }
    },
    {
      "cell_type": "code",
      "source": [
        "def preprocess_remove_index(text):\n",
        "    text_lower = text.lower()\n",
        "\n",
        "    lines = text.splitlines()\n",
        "\n",
        "    # Finding the index of the first occurrence of \"CHAPTER XII\"\n",
        "    for i, line in enumerate(lines):\n",
        "        if 'chapter xii' in line.lower():\n",
        "            chapter_xii_index = i\n",
        "            break\n",
        "    else:\n",
        "        print(\"First occurrence of 'CHAPTER XII' not found.\")\n",
        "        return text\n",
        "\n",
        "    # Removing everything up to and including the line with \"CHAPTER XII\"\n",
        "    cleaned_lines = lines[chapter_xii_index + 1:]\n",
        "\n",
        "    # Joining the remaining lines back into a single string\n",
        "    cleaned_text = \"\\n\".join(cleaned_lines)\n",
        "\n",
        "    return cleaned_text\n",
        "\n",
        "processed_text = preprocess_remove_index(text)\n",
        "print(\"Index removed. Proceeding with text.\")"
      ],
      "metadata": {
        "colab": {
          "base_uri": "https://localhost:8080/"
        },
        "id": "Fj8lGi61UWHV",
        "outputId": "6ae0d901-7f55-4ef6-8d67-d07652770232"
      },
      "execution_count": 3,
      "outputs": [
        {
          "output_type": "stream",
          "name": "stdout",
          "text": [
            "Index removed. Proceeding with text.\n"
          ]
        }
      ]
    },
    {
      "cell_type": "markdown",
      "source": [
        "# Finding chapter markers"
      ],
      "metadata": {
        "id": "S3fkVEKJaGwi"
      }
    },
    {
      "cell_type": "code",
      "source": [
        "processed_text_lower = processed_text.lower()\n",
        "chapter_markers = re.findall(r'chapter [ivxlc]+\\.', processed_text_lower)\n",
        "\n",
        "# Checking if we found exactly 12 chapter markers\n",
        "if len(chapter_markers) != 12:\n",
        "    print(f\"Warning: Found {len(chapter_markers)} chapter markers. Expected 12.\")\n",
        "else:\n",
        "    print(f\"Found the expected 12 chapter markers: {chapter_markers}\")\n",
        "\n",
        "# Locating chapter positions in the text based on chapter markers\n",
        "chapter_positions = [processed_text_lower.find(marker) for marker in chapter_markers]\n",
        "chapter_positions.append(len(processed_text_lower))"
      ],
      "metadata": {
        "colab": {
          "base_uri": "https://localhost:8080/"
        },
        "id": "hUEXri4896_6",
        "outputId": "5ed54b43-5f6e-494c-c2b5-8edd4cc51e9c"
      },
      "execution_count": 4,
      "outputs": [
        {
          "output_type": "stream",
          "name": "stdout",
          "text": [
            "Found the expected 12 chapter markers: ['chapter i.', 'chapter ii.', 'chapter iii.', 'chapter iv.', 'chapter v.', 'chapter vi.', 'chapter vii.', 'chapter viii.', 'chapter ix.', 'chapter x.', 'chapter xi.', 'chapter xii.']\n"
          ]
        }
      ]
    },
    {
      "cell_type": "markdown",
      "source": [
        "# Splitting the text into chapters"
      ],
      "metadata": {
        "id": "MGbFGpWm--Ht"
      }
    },
    {
      "cell_type": "code",
      "source": [
        "def split_into_chapters(text):\n",
        "    # Regular expression to match chapter markers (e.g., \"CHAPTER I.\", \"CHAPTER II.\", etc.)\n",
        "    chapter_pattern = re.compile(r'(chapter \\w+\\.)')\n",
        "\n",
        "    # Finding all chapter markers positions\n",
        "    chapter_positions = [match.start() for match in chapter_pattern.finditer(text.lower())]\n",
        "\n",
        "    # Splitting the text into chapters using the found positions\n",
        "    chapters = []\n",
        "    for i in range(len(chapter_positions)):\n",
        "        start_pos = chapter_positions[i]\n",
        "        end_pos = chapter_positions[i+1] if i+1 < len(chapter_positions) else len(text)\n",
        "        chapter_text = text[start_pos:end_pos].strip()\n",
        "        chapters.append(chapter_text)\n",
        "\n",
        "    return chapters\n",
        "\n",
        "chapters = split_into_chapters(processed_text)\n",
        "print(f\"Total chapters detected: {len(chapters)}\")"
      ],
      "metadata": {
        "colab": {
          "base_uri": "https://localhost:8080/"
        },
        "id": "fLkXPy6d_DMY",
        "outputId": "91c5580d-3728-414e-e76f-83aef4c9b944"
      },
      "execution_count": 5,
      "outputs": [
        {
          "output_type": "stream",
          "name": "stdout",
          "text": [
            "Total chapters detected: 12\n"
          ]
        }
      ]
    },
    {
      "cell_type": "markdown",
      "source": [
        "# Preprocessing Text for TF-IDF (Tokenization, Lemmatization, etc.)"
      ],
      "metadata": {
        "id": "eBV15zu-Dg5o"
      }
    },
    {
      "cell_type": "code",
      "source": [
        "def preprocess_for_tfidf(text):\n",
        "    # Tokenize the text\n",
        "    tokens = word_tokenize(text.lower())\n",
        "\n",
        "    # Remove punctuation and stopwords\n",
        "    stop_words = set(stopwords.words(\"english\"))\n",
        "    lemmatizer = WordNetLemmatizer()\n",
        "    processed_tokens = [\n",
        "        lemmatizer.lemmatize(token) for token in tokens if token not in stop_words and token.isalpha()\n",
        "    ]\n",
        "\n",
        "    return ' '.join(processed_tokens)\n",
        "\n",
        "# Preprocess each chapter for TF-IDF\n",
        "preprocessed_chapters = [preprocess_for_tfidf(chapter) for chapter in chapters]"
      ],
      "metadata": {
        "id": "-41VUvMfDnD-"
      },
      "execution_count": 6,
      "outputs": []
    },
    {
      "cell_type": "markdown",
      "source": [
        "# Preprocessing text to exclude 'Alice' and other common stopwords"
      ],
      "metadata": {
        "id": "Pfh-OjFhD2Cp"
      }
    },
    {
      "cell_type": "code",
      "source": [
        "nlp = spacy.load(\"en_core_web_sm\")\n",
        "\n",
        "def preprocess_text(text):\n",
        "    # Convert to lowercase\n",
        "    text = text.lower()\n",
        "\n",
        "    # Remove non-alphabetic characters and digits\n",
        "    text = ''.join([char if char.isalpha() or char.isspace() else ' ' for char in text])\n",
        "\n",
        "    # Process with SpaCy NLP model for POS tagging\n",
        "    doc = nlp(text)\n",
        "\n",
        "    # Filter out stop words and keep only nouns and adjectives, exclude 'alice'\n",
        "    filtered_tokens = [token.text for token in doc if token.pos_ in ['NOUN', 'ADJ'] and token.text != 'alice']\n",
        "\n",
        "    return \" \".join(filtered_tokens)\n",
        "\n",
        "# Apply the preprocessing function to all chapters\n",
        "preprocessed_chapters = [preprocess_text(chapter) for chapter in chapters]"
      ],
      "metadata": {
        "id": "N7mgxuAvD4fc"
      },
      "execution_count": 7,
      "outputs": []
    },
    {
      "cell_type": "markdown",
      "source": [
        "![image.png](data:image/png;base64,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)"
      ],
      "metadata": {
        "id": "gSmly1s4jxf6"
      }
    },
    {
      "cell_type": "markdown",
      "source": [
        "# Detecting top 10 words"
      ],
      "metadata": {
        "id": "HfvMXewkHRHl"
      }
    },
    {
      "cell_type": "markdown",
      "source": [
        "Using Noun + Adjective approach"
      ],
      "metadata": {
        "id": "MolWKNO9HZhj"
      }
    },
    {
      "cell_type": "code",
      "source": [
        "from collections import Counter\n",
        "\n",
        "# Function to get top N words (nouns + adjectives)\n",
        "def get_top_n_words(chapter_text, n=10):\n",
        "    doc = nlp(chapter_text)\n",
        "    # Extract nouns and adjectives\n",
        "    words = [token.text for token in doc if token.pos_ in ['NOUN', 'ADJ']]\n",
        "    word_freq = Counter(words)\n",
        "    top_words = [word for word, _ in word_freq.most_common(n)]  # Get only the words, not the counts\n",
        "    return top_words\n",
        "\n",
        "# Get top 10 words (nouns and adjectives) for each chapter\n",
        "top_words_per_chapter = [get_top_n_words(chapter, n=10) for chapter in preprocessed_chapters]\n",
        "\n",
        "# Print top words for each chapter, focusing on nouns and adjectives\n",
        "for i, top_words in enumerate(top_words_per_chapter):\n",
        "    print(f\"Chapter {i+1}: {', '.join(top_words)}\")"
      ],
      "metadata": {
        "colab": {
          "base_uri": "https://localhost:8080/"
        },
        "id": "HkV7vhmKHOgi",
        "outputId": "fc1635e5-8442-48ed-bf16-f6d9a705f810"
      },
      "execution_count": 8,
      "outputs": [
        {
          "output_type": "stream",
          "name": "stdout",
          "text": [
            "Chapter 1: little, way, rabbit, time, door, key, things, table, moment, people\n",
            "Chapter 2: little, way, dear, pool, feet, things, mouse, cats, poor, great\n",
            "Chapter 3: mouse, dodo, race, long, thing, birds, question, little, dry, lory\n",
            "Chapter 4: little, rabbit, thing, window, bill, sure, great, door, voice, moment\n",
            "Chapter 5: caterpillar, pigeon, little, serpent, last, bit, other, time, mouth, day\n",
            "Chapter 6: cat, duchess, baby, mad, little, door, large, way, other, thing\n",
            "Chapter 7: hatter, time, dormouse, tea, thing, little, same, table, great, twinkle\n",
            "Chapter 8: head, queen, soldiers, game, voice, executioner, tone, moment, rabbit, procession\n",
            "Chapter 9: turtle, mock, duchess, gryphon, little, day, moral, queen, old, thing\n",
            "Chapter 10: mock, turtle, gryphon, dance, soup, beautiful, voice, sea, lobsters, tone\n",
            "Chapter 11: king, court, witness, hatter, white, rabbit, jury, voice, little, other\n",
            "Chapter 12: king, jury, little, white, rabbit, sister, head, dream, voice, important\n"
          ]
        }
      ]
    },
    {
      "cell_type": "markdown",
      "source": [
        "Chapter names generated by code is done for TF-IDF feature extraction. Cant get gramatically correct chapter names without using any generative AI model's API key. But here are some personal suggestions based on the extracted words."
      ],
      "metadata": {
        "id": "OR4aqz4FKNlY"
      }
    },
    {
      "cell_type": "markdown",
      "source": [
        "Using these words, we can name the chapters as follows:\n",
        "\n",
        "Chapter 1 - Through the door of time\n",
        "\n",
        "Chapter 2 - Great Things and Poor Choices\n",
        "\n",
        "Chapter 3 - A Race Among the Little Things\n",
        "\n",
        "Chapter 4 - The Little Rabbit by the Window\n",
        "\n",
        "Chapter 5- The Little Caterpillar and the Serpent\n",
        "\n",
        "Chapter 6 - The Mad Duchess and the Little Cat\n",
        "\n",
        "Chapter 7 - Tea at the Same Table\n",
        "\n",
        "Chapter 8 - The Game of Execution and the Queen\n",
        "\n",
        "Chapter 9 - The Mock Turtle and the Duchess\n",
        "\n",
        "Chapter 10 - The Lobsters and the Dance of the Sea\n",
        "\n",
        "Chapter 11 - The White Rabbit and the Witness\n",
        "\n",
        "Chapter 12 - The Important Voice of the Jury\n"
      ],
      "metadata": {
        "id": "68I8ojo-V9MG"
      }
    },
    {
      "cell_type": "markdown",
      "source": [
        "Using TF-IDF Feature extraction approach"
      ],
      "metadata": {
        "id": "QURp3tURHcTH"
      }
    },
    {
      "cell_type": "code",
      "source": [
        "from sklearn.feature_extraction.text import TfidfVectorizer\n",
        "import numpy as np\n",
        "\n",
        "# Function to get top N words using TF-IDF\n",
        "def get_top_n_words_tfidf(chapter_text, n=10):\n",
        "    # Initialize TF-IDF vectorizer\n",
        "    vectorizer = TfidfVectorizer(max_features=1000)  # Limit the features to 1000 for efficiency\n",
        "    tfidf_matrix = vectorizer.fit_transform([chapter_text])  # Apply to the single chapter\n",
        "\n",
        "    # Get feature names (words) and their corresponding TF-IDF scores\n",
        "    feature_names = np.array(vectorizer.get_feature_names_out())\n",
        "    tfidf_scores = tfidf_matrix.toarray().flatten()  # Convert to 1D array\n",
        "\n",
        "    # Sort the words by their TF-IDF scores in descending order\n",
        "    sorted_indices = np.argsort(tfidf_scores)[::-1]\n",
        "\n",
        "    # Get top N words based on TF-IDF scores\n",
        "    top_words = feature_names[sorted_indices[:n]]\n",
        "\n",
        "    return top_words\n",
        "\n",
        "# Get top 10 words using TF-IDF for each chapter\n",
        "top_words_per_chapter_tfidf = [get_top_n_words_tfidf(chapter, n=10) for chapter in preprocessed_chapters]\n",
        "\n",
        "# Print top words for each chapter\n",
        "for i, top_words in enumerate(top_words_per_chapter_tfidf):\n",
        "    print(f\"Chapter {i+1}: {', '.join(top_words)}\")"
      ],
      "metadata": {
        "colab": {
          "base_uri": "https://localhost:8080/"
        },
        "id": "w4ShDa1SG-6C",
        "outputId": "31a4feab-b290-43ae-cbdb-8e78aa16cf49"
      },
      "execution_count": 9,
      "outputs": [
        {
          "output_type": "stream",
          "name": "stdout",
          "text": [
            "Chapter 1: little, way, time, rabbit, door, key, things, table, use, hall\n",
            "Chapter 2: mouse, little, way, dear, pool, feet, things, cats, tears, great\n",
            "Chapter 3: mouse, dodo, race, course, thing, long, lory, little, question, prizes\n",
            "Chapter 4: little, rabbit, bill, sure, thing, window, room, great, door, voice\n",
            "Chapter 5: caterpillar, pigeon, little, serpent, bit, last, right, youth, day, good\n",
            "Chapter 6: cat, duchess, little, baby, mad, door, way, large, pig, footman\n",
            "Chapter 7: hatter, dormouse, time, tea, thing, little, same, twinkle, table, head\n",
            "Chapter 8: queen, king, head, cat, soldiers, gardeners, game, executioner, voice, minute\n",
            "Chapter 9: turtle, mock, gryphon, duchess, queen, little, day, moral, school, tone\n",
            "Chapter 10: gryphon, turtle, mock, dance, beautiful, soup, voice, whiting, sea, lobsters\n",
            "Chapter 11: king, hatter, court, dormouse, witness, queen, rabbit, white, jury, voice\n",
            "Chapter 12: king, jury, queen, little, rabbit, white, head, sister, dream, voice\n"
          ]
        }
      ]
    },
    {
      "cell_type": "code",
      "source": [
        "import random\n",
        "\n",
        "# Improved function to generate chapter names with 4 words\n",
        "def generate_improved_chapter_name(top_words):\n",
        "    # List of common filler words to avoid\n",
        "    stop_words = {'little', 'time', 'things', 'way', 'good', 'great', 'much', 'dear', 'question', 'voice'}\n",
        "\n",
        "    # Eliminate stop words (e.g., 'little', 'time', 'things') from the top_words list\n",
        "    top_words = [word for word in top_words if word not in stop_words]\n",
        "\n",
        "    # Categorize the words by type (noun, adjective, verb)\n",
        "    nouns = [word for word in top_words if word in ['rabbit', 'queen', 'king', 'door', 'mouse', 'caterpillar', 'hatter', 'cat', 'thing', 'race', 'court']]\n",
        "    adjectives = [word for word in top_words if word in ['great', 'beautiful', 'mad', 'big', 'large', 'new']]\n",
        "    verbs = [word for word in top_words if word in ['dance', 'speak', 'run', 'question', 'race', 'jump', 'move']]\n",
        "\n",
        "    # Remove duplicates\n",
        "    top_words = list(set(top_words))  # Remove duplicates\n",
        "\n",
        "    # Ensure that we have meaningful nouns, adjectives, and verbs\n",
        "    if not nouns:\n",
        "        nouns = random.sample(top_words, 1)\n",
        "    if not adjectives:\n",
        "        adjectives = random.sample(top_words, 1)\n",
        "    if not verbs:\n",
        "        verbs = random.sample(top_words, 1)\n",
        "\n",
        "    # Construct the title with a more thoughtful order (noun first, then adjective, then verb)\n",
        "    title = []\n",
        "    used_words = set()  # To keep track of the words we've already used\n",
        "\n",
        "    # Add noun if available and not already used\n",
        "    if nouns:\n",
        "        title.append(nouns[0].capitalize())\n",
        "        used_words.add(nouns[0])\n",
        "\n",
        "    # Add adjective if available and not already used\n",
        "    if adjectives and len(title) < 3 and adjectives[0] not in used_words:\n",
        "        title.append(adjectives[0])\n",
        "        used_words.add(adjectives[0])\n",
        "\n",
        "    # Add verb if available and not already used\n",
        "    if verbs and len(title) < 3 and verbs[0] not in used_words:\n",
        "        title.append(verbs[0])\n",
        "        used_words.add(verbs[0])\n",
        "\n",
        "    # Add any remaining words to complete the title to 4 words, ensuring no repetition\n",
        "    while len(title) < 3:\n",
        "        remaining_words = [word for word in top_words if word not in used_words]\n",
        "        title.append(random.choice(remaining_words))\n",
        "        used_words.add(title[-1])  # Add the chosen word to the used set\n",
        "\n",
        "    # Return the title as a string\n",
        "    return ' '.join(title)\n",
        "\n",
        "# Generate improved chapter titles for each chapter\n",
        "improved_titles = [generate_improved_chapter_name(top_words) for top_words in top_words_per_chapter_tfidf]\n",
        "\n",
        "# Print the suggested titles for each chapter\n",
        "for i, title in enumerate(improved_titles):\n",
        "    print(f\"Improved Suggested title for Chapter {i+1}: {title}\")"
      ],
      "metadata": {
        "colab": {
          "base_uri": "https://localhost:8080/"
        },
        "id": "iqio4Xn5Hg05",
        "outputId": "1318e885-0a8a-4c55-e769-60a90b0c361a"
      },
      "execution_count": 19,
      "outputs": [
        {
          "output_type": "stream",
          "name": "stdout",
          "text": [
            "Improved Suggested title for Chapter 1: Rabbit key use\n",
            "Improved Suggested title for Chapter 2: Mouse cats feet\n",
            "Improved Suggested title for Chapter 3: Mouse course race\n",
            "Improved Suggested title for Chapter 4: Rabbit sure door\n",
            "Improved Suggested title for Chapter 5: Caterpillar day right\n",
            "Improved Suggested title for Chapter 6: Cat mad footman\n",
            "Improved Suggested title for Chapter 7: Hatter dormouse head\n",
            "Improved Suggested title for Chapter 8: Queen cat head\n",
            "Improved Suggested title for Chapter 9: Queen moral turtle\n",
            "Improved Suggested title for Chapter 10: Gryphon beautiful dance\n",
            "Improved Suggested title for Chapter 11: King queen hatter\n",
            "Improved Suggested title for Chapter 12: King queen white\n"
          ]
        }
      ]
    },
    {
      "cell_type": "markdown",
      "source": [
        "![image.png](data:image/png;base64,iVBORw0KGgoAAAANSUhEUgAAA9kAAABKCAYAAACvrpeaAAAAAXNSR0IArs4c6QAAAARnQU1BAACxjwv8YQUAAAAJcEhZcwAADsMAAA7DAcdvqGQAAA4CSURBVHhe7d09cuLMFofx/70bkR24TKA9qEjsxJm8AKJxNNEkVBFT5WSiiXDEAiBzghMXeyDQ1AS2VnJvIAH6aFALjgy2n1/VBK/Na7W6j1o63a3mP9fX1/8TAAAAAAA42n+rPwAAAAAAAIchyQYAAAAAwAhJNgAAAAAARkiyAQAAAAAwQpINAAAAAIARkmwAAAAAAIyQZAMAAAAAYIQkGwAAAAAAIyTZAAAAAAAYIckGAAAAAMAISTYAAAAAAEZIsgEAAAAAMEKSDQAAAACAEZJsAAAAAACMkGQDAAAAAGCEJBsAAAAAACMk2QAAAAAAGCHJBgAAAADACEk2AAAAAABGvnaSHQ61SBIlyURx9XdHizVJEi2GYfUXZsLhoqOyA+ei++vI2smvy077NXw5RvFysrjflD//txhqb29hdL7n7mTtcZTP1997+9Jx+oXb7Sxk9buJnSTR5ByCIp5sy3QWBfp8vnaSfdbotNAG8YLviLj/GGdcz6tH3fZ66vV6Gi2rv4StM46Dc0ecfmKnjPtYk2SsaDlSL4+fXq+nh3n1Myco3/whL89Iy2isJFnoo4vw2Rkk2dsRmM4DoDpS2DTqs+n0HlSKV+y2p46zf2d0kRXK6mx/yTFCeEblBw5Bv4Y2zj1eNrMlRn3zuZ/vHvtnp0MNFx/wnAU34hRdiG8UKdX0zzlHwVwPvXtN00CD2a7+CS5HJ9nxZKyo+sOOLUfb0R73qA8OVhiN7fXuNU0lpVPdb352q8dV9X/6aNnDRvJbepqm1V8W1EcI76fSYLYvKQcAfJT4JpKWU03TQP07i+wFsEecogvh1YWkd/07+XN1k5WeX1NJF7oi/L0dl2SHQ/2IpOVopLNaHVOdjd3xbkw4XOS/q8x2OjOwPLHbfO6wwYVspHr7/weDWWmm2D1KXT62z2fMRlsbVWeK6wnsrnp2n0ezeDJT//VevdtH/a3+siCejBWlU90XRmBWj780TaXohzsmdgqHWiQLDcPtOUziQnvWYqy5XjLVz5Xb7bB42c89W5KXo1bI/eXb8o2/6ucOu47W17jr/LPzqx6/etzq74ttXKz3HZ+V6n+zVndqUX8eOunXfPmeR3M9+5SvfdzbHLek+D7azs81HzfjW3/7xZPd7V5bUugRL+3rWbVzdn/GV6ybSFq+POr5NVXQv6uV0ZvH+ZaYtu9HuNZlUP2ZamV0tke1bir3o8PiwEe1/nb199XrY9f9svr3drVH9e/t+pyv7xan1b93bLs1+ELPV5nqcXeVb7/25au2Wz0OWt8HawJdXld/hl2OSLJDDX8PFCxH5zeL3ObdmGCgWTKW1rPjo6UUjcsXRDjUIskTu82M7mEDC6vH29L/n06Lf7On29o0caRxMtPl07Z8wWBWuWBjTZKZBu8fPGMbDrVIxroonMP9NFU0dhy3Ws9ZAeuf8zB/cNVTVXZTTF+fVfpk/FODQFJwqUP6if7vH3q7z2b4o3Gi2eWTevdTpcFAP9fn4l0vcW2mvdd70uXv7Q2lfbxYai7f9nMe8Wd4HWn1rNdUjoedUHf9QEpf9bypGs/ySZICDWZ5u/Z6+WqOQIPaOVeuy/up0mhcuen51p8n637Nm+95tKjnhvK1i3u7466Fw4WScVReNfVy47h+fY7rW3/N/r6l/n2XR7y0q2fV4955P2ohvlGkpV7m0ur5VWnQ18GThB7nu2bbvnZW/94bZ4reS1NePu0Ra/Jb+lVo1+x+tH0Abx8HHnz7+1b3S5/2sLveNr5TnJq3m78v8XzlU77CwMlsEOTXcSHhzQcV2pWvRRx43gfL8mer/DqAn4OT7HD4W4NgqdHZZdjtLUeF5ebzFy0lXRTucvHPgYJ0ql+HXHAGmsoXDn8oUrktNjO2N3uvmiNsB1mKF/rq8VajpXumuHQeq0c97ficifBKF5UHkuyGJY1Gy8YHGbdAwfuTHlcr/XuX5HyPpkW95GVclnqsuR5uH8sDA6fiWT7f+LO9jlZ6fFpK1Yed8E79QFo+bcvoW76N5Ui9baBmS6QciY0rnktJv2f9daWp3/DmeR5t69mqfObHDYf6PQiUTu/LA8jzh9J/ex/Xs/58VJOweFKYgXD0eV1orL8WsiW4L9k7qat/etcHLMW1bt8Oldp3h+b2qMfa6vFJy47r2q+/979fereH4fW29p3i1Lrd/H2F5yvP8m02FMsScGmpUSF57h1QxrZx0Nxv5DYDArMs52MPgVYOTLJj/RwESqd/TlLZ0bi8DMO1JMKfe1Qm2KyH2DEj+mGaypePLq1vABt5R3VxdUBn5yFPZtK3+oLt+Ysj+XGcR6tZmSPFk0Sz/qvuNx3EYUteSh12abY016ZeVv/0nsdzw3PUaXiVzzf+OriO5i+1B8Xwrq+gFGu+5dsq35SzG2R9cxqPePaqv67Uy6dSv9GC13m0rWer8tkfdx1DTw0Pmd7H9ao/T3/ftN2FIrumFN0UXv1I5eh6DDXXn7/1Etz1H5wr6yKrq1Nsmbevpb9vSjf3pkr7hle6qLWvZXtY8uzvve+XLdrD8nqTvlmcWrdbO5/++apN+Uy1jYO2/Uaq6X3P8RyEJgcl2et3XfePdHWnvvHZOWzGdSr5e1rRuDLwkGgcqfMktutZk+PFmiSJfrxl73BvS1t9WLHlVy/rHRuLA0fHDBhZ8ynfKeOv+rDjutGctnzN9fcZ+JzHqerZ/rjX7hdfK9oc16f+POWzaJfXypawLqeappFuYknXlwo+xQY6uXxX3WI/nD2IFpaGdsC+fTtSbd8jlPeYSPa8Y3sazffLNu1heL2JON2nud264Xdc4zhowa98lk4bB9itfZIdTzSOUk1/tV/OgC781VuqbIlraeBh/a/bkSfX8pJst8Rm15eBlL7t3bzsYJtRzOy9k+LSnY/YzdG/XlZ6vF231UjL/J3gDxt5bdRUvtPG3/zPdPt+XHinflBdYnba8jXX32fRdB6nqmf74/592/eNBWttj9tUf76y415chQqvLpS+Pev5NVV0E2f9S1f9aQfim0jrPRA2D4XjLPVzLW+00k37GsnvW8rrZ73R1rY+2t+3wuFCs0FQmZxwvGN7Qs33y7btYXW9Eaf7NLdbN/yPaxcHbfiXz0rXcdC+30GmdZLt7HAqO9/Vdrzb7KZY3dH4M8iCt7qMInv/4Rjuv9veruUgHVtvPOUof5Y8O5b6lITKct1/HQ3WZLOcSqcqv9bjmu00dFS9zPWQP/zUO2mreNkhf39pP1f5fOPPXf6jr6PVs17zr1QJ7/oKavXrW75j+cSVq/4+I9d5dFXP7rjZsj9u9t5z0+zhMcd11Z+v7LjB5Z3u+tLr8yrbiOniKpupOLg/bapna/my1MpGPr31ZlClJfC2Omtfw+eci6uhbqLCRlvRjeLrS/nMbZatN4Ks3gd3sYoD99+p9ffe98sD2mPjmOvtC8bpXtbtZuyo4+6LA/d5t3ZU+fZpKp91HBTMHwyS9O+rdZI9f6iOkKxHiLYdUXVHvuzdEnl0GOco3/go+rFZZhIOF5r137X0GWjcKb8oCn/3UNls3kCzrofnSvKNpyo7KofDhddKh3iSb6JQ2tHDlqtesg37qrOdllrUSzypDUhlN7NUr7We2C5eVs+vSovXYjjUYjaoP8B5ls9Vz3XdXUfZV6r81M9+4HyXzK98x3HGlWf9nT3P8+imnpvj3vy48z/5EsPK0sJ4UpoB8T6uZ/35+vuWStFAA+UPbKt/eg8GGg9qV3ALzfVsKl+C6zr/+cuy22cF6/bN2Tzn5DNS/b6i9aqE1bNe00jjfPa0nbxdi++C5rsfu/+aVRz49vf+90vv9rC83r5gnO5n3262Why3VRzYxb13+VppLp9tHGzFk2wy1fjPfhutk+xDZA/12vmyvbXi+0fZ+wgDzfL/rl50PrKdAbez97PLJ/Vu/+it+sGW5g/51wMVVgUcUr7sKyFGWjrexzjo7/maP2y+MmR9vNngXSPnO/LlrygYX0wLm5C1VPv6g8I7N8XvU1w96jb/aqXm8hnyrZf5g37pd6m9ZgNpeu8un2W8/Mq/UiJJEiWzSz3l7y6V+JbPM/66uo6yr1SJFAU7NonxLJ+v9SBFMZ6zTfWOa98m1v2aN9/zMK7ntca4Nz9utsSwGKtJkii5eSnv8ut7XN/6a2sza52v2lF5w5228dJYz4bibHcl96xOvtPteimu73n4fs68fdcfN3zOCYLigGGe+EgHvQ5Qa9dZX6/51yS51D6/43ybePf3vvdL3/YwvN6+Ypw2MW83a77HbRkHVnHvXb6WGstnHAew8Z/r6+v/VX8IWAqHi7yTOTCpBgAAAIBP4kNmsgEAAAAA+A5IsgEAAAAAMEKSDQAAAACAEd7JBgAAAADACDPZAAAAAAAYIckGAAAAAMAISTYAAAAAAEZIsgEAAAAAMEKSDQAAAACAEZJsAAAAAACMkGQDAAAAAGCEJBsAAAAAACMk2QAAAAAAGCHJBgAAAADACEk2AAAAAABGSLIBAAAAADBCkg0AAAAAgBGSbAAAAAAAjJBkAwAAAABghCQbAAAAAAAjJNkAAAAAABghyQYAAAAAwAhJNgAAAAAARkiyAQAAAAAwQpINAAAAAIARkmwAAAAAAIyQZAMAAAAAYIQkGwAAAAAAIyTZAAAAAAAYIckGAAAAAMAISTYAAAAAAEZIsgEAAAAAMEKSDQAAAACAEZJsAAAAAACMkGQDAAAAAGCEJBsAAAAAACMk2QAAAAAAGCHJBgAAAADACEk2AAAAAABGSLIBAAAAADDyf93BJP6nZRcDAAAAAElFTkSuQmCC)"
      ],
      "metadata": {
        "id": "DPOZwcY6j7zU"
      }
    },
    {
      "cell_type": "markdown",
      "source": [
        "# Finding Top 10 Most Used Verbs in Sentences Containing \"Alice\""
      ],
      "metadata": {
        "id": "JVX8pvpCHn9D"
      }
    },
    {
      "cell_type": "code",
      "source": [
        "import nltk\n",
        "from nltk.tokenize import word_tokenize\n",
        "from nltk import pos_tag\n",
        "from collections import Counter\n",
        "import string\n",
        "\n",
        "# Create an exclusion list for verbs\n",
        "exclusion_list = [\"getting\", \"being\", \"beginning\", \"having\",\"speaking\",\"saying\",\"hanging\"]  # Excluding unnecessary and repeated verbs\n",
        "\n",
        "# Function to extract verbs from sentences containing 'Alice'\n",
        "def extract_verbs_from_alice_sentences(text):\n",
        "    # Tokenize the text into sentences\n",
        "    sentences = nltk.sent_tokenize(text)\n",
        "\n",
        "    # Filter sentences containing the word \"Alice\"\n",
        "    alice_sentences = [sentence for sentence in sentences if 'alice' in sentence.lower()]\n",
        "\n",
        "    # Extract verbs from these sentences\n",
        "    verbs = []\n",
        "    for sentence in alice_sentences:\n",
        "        tokens = word_tokenize(sentence)\n",
        "        tagged_tokens = pos_tag(tokens)\n",
        "\n",
        "        # Extract all verbs (tagged as VB, VBD, VBG, VBN, VBP, VBZ)\n",
        "        verbs.extend([word for word, tag in tagged_tokens if tag.startswith('VB')])\n",
        "\n",
        "    return verbs\n",
        "\n",
        "# Extract verbs from sentences containing 'Alice'\n",
        "alice_verbs = extract_verbs_from_alice_sentences(processed_text)\n",
        "\n",
        "# Separate the verbs that are tagged as VBG (gerund or present participle)\n",
        "vbg_verbs = [verb for verb in alice_verbs if pos_tag([verb])[0][1] == 'VBG']\n",
        "\n",
        "# Remove excluded verbs from the list\n",
        "vbg_verbs = [verb for verb in vbg_verbs if verb.lower() not in exclusion_list]\n",
        "\n",
        "# Count the frequency of each VBG verb\n",
        "vbg_verb_counts = Counter(vbg_verbs)\n",
        "\n",
        "# Get the top 10 most frequent VBG verbs\n",
        "top_10_vbg_verbs = vbg_verb_counts.most_common(10)\n",
        "\n",
        "# Print the top 10 most frequent VBG verbs\n",
        "print(\"Top 10 Most Frequent Verbs in Sentences with 'Alice' (Excluding List):\")\n",
        "for verb, count in top_10_vbg_verbs:\n",
        "    print(f\"{verb}: {count}\")"
      ],
      "metadata": {
        "colab": {
          "base_uri": "https://localhost:8080/"
        },
        "id": "ll4rHg1fhhd3",
        "outputId": "f8a7992d-c68e-479b-dce4-ee10bb260a0f"
      },
      "execution_count": 20,
      "outputs": [
        {
          "output_type": "stream",
          "name": "stdout",
          "text": [
            "Top 10 Most Frequent Verbs in Sentences with 'Alice' (Excluding List):\n",
            "going: 18\n",
            "looking: 16\n",
            "talking: 10\n",
            "trying: 8\n",
            "turning: 7\n",
            "feeling: 5\n",
            "making: 4\n",
            "thinking: 4\n",
            "sitting: 3\n",
            "wondering: 3\n"
          ]
        }
      ]
    }
  ]
}